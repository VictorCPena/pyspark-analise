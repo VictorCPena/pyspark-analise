{
 "cells": [
  {
   "cell_type": "markdown",
   "id": "7b52bf86",
   "metadata": {},
   "source": [
    "##### Importando Bibliotecas"
   ]
  },
  {
   "cell_type": "code",
   "execution_count": 1,
   "id": "b44450ec",
   "metadata": {},
   "outputs": [],
   "source": [
    "from pyspark.sql import SparkSession\n",
    "from pyspark.sql.functions import *\n",
    "from pyspark.ml.fpm import FPGrowth\n",
    "from pyspark.sql.functions import avg\n",
    "from pyspark.sql.functions import collect_list, expr\n",
    "from pyspark.sql.functions import col\n",
    "import pyspark.sql.functions as F\n",
    "import matplotlib.pyplot as plt\n",
    "from pyspark.sql.functions import count\n",
    "import pandas as pd\n",
    "from config import user, password, host, port, database"
   ]
  },
  {
   "cell_type": "markdown",
   "id": "4b1b5c79",
   "metadata": {},
   "source": [
    "##### Configurando conexão com o PostgreSQL"
   ]
  },
  {
   "cell_type": "code",
   "execution_count": 2,
   "id": "e7b18d1e",
   "metadata": {},
   "outputs": [],
   "source": [
    "spark = SparkSession.builder \\\n",
    "    .appName('Conexão com PostgreSQL') \\\n",
    "    .config('spark.jars', 'postgresql-42.6.0.jar') \\\n",
    "    .config('spark.driver.extraClassPath', 'postgresql-42.6.0.jar') \\\n",
    "    .config('spark.executor.extraClassPath', 'postgresql-42.6.0.jar') \\\n",
    "    .getOrCreate()"
   ]
  },
  {
   "cell_type": "code",
   "execution_count": 3,
   "id": "694e7b4a",
   "metadata": {},
   "outputs": [],
   "source": [
    "url = f'jdbc:postgresql://{host}:{port}/{database}'\n",
    "properties = {\n",
    "    'user': user,\n",
    "    'password': password,\n",
    "    'driver': 'org.postgresql.Driver'\n",
    "}"
   ]
  },
  {
   "cell_type": "code",
   "execution_count": 4,
   "id": "c9f97acc",
   "metadata": {},
   "outputs": [],
   "source": [
    "sql = \"SELECT table_name FROM information_schema.tables WHERE table_schema = 'public'\"\n",
    "\n",
    "tabelas_df = spark.read.format('jdbc') \\\n",
    "    .option('url', url) \\\n",
    "    .option('query', sql) \\\n",
    "    .option('user', user) \\\n",
    "    .option('password', password) \\\n",
    "    .load()\n",
    "\n",
    "tabelas = tabelas_df.select('table_name').rdd.flatMap(lambda x: x).collect()"
   ]
  },
  {
   "cell_type": "markdown",
   "id": "498b874c",
   "metadata": {},
   "source": [
    "##### Analisando informações do banco de Dados"
   ]
  },
  {
   "cell_type": "code",
   "execution_count": 5,
   "id": "73399d74",
   "metadata": {},
   "outputs": [
    {
     "data": {
      "text/plain": [
       "'Total de registros na tabela: categorias'"
      ]
     },
     "metadata": {},
     "output_type": "display_data"
    },
    {
     "data": {
      "text/plain": [
       "30"
      ]
     },
     "metadata": {},
     "output_type": "display_data"
    },
    {
     "data": {
      "text/plain": [
       "'Total de registros na tabela: subcategorias'"
      ]
     },
     "metadata": {},
     "output_type": "display_data"
    },
    {
     "data": {
      "text/plain": [
       "132"
      ]
     },
     "metadata": {},
     "output_type": "display_data"
    },
    {
     "data": {
      "text/plain": [
       "'Total de registros na tabela: produtos'"
      ]
     },
     "metadata": {},
     "output_type": "display_data"
    },
    {
     "data": {
      "text/plain": [
       "2700000"
      ]
     },
     "metadata": {},
     "output_type": "display_data"
    },
    {
     "data": {
      "text/plain": [
       "'Total de registros na tabela: clientes'"
      ]
     },
     "metadata": {},
     "output_type": "display_data"
    },
    {
     "data": {
      "text/plain": [
       "45000"
      ]
     },
     "metadata": {},
     "output_type": "display_data"
    },
    {
     "data": {
      "text/plain": [
       "'Total de registros na tabela: pedidos'"
      ]
     },
     "metadata": {},
     "output_type": "display_data"
    },
    {
     "data": {
      "text/plain": [
       "3000003"
      ]
     },
     "metadata": {},
     "output_type": "display_data"
    },
    {
     "data": {
      "text/plain": [
       "'Total de registros na tabela: itenspedido'"
      ]
     },
     "metadata": {},
     "output_type": "display_data"
    },
    {
     "data": {
      "text/plain": [
       "1202348"
      ]
     },
     "metadata": {},
     "output_type": "display_data"
    },
    {
     "data": {
      "text/plain": [
       "'Total de registros na tabela: carrinhoscompras'"
      ]
     },
     "metadata": {},
     "output_type": "display_data"
    },
    {
     "data": {
      "text/plain": [
       "82250"
      ]
     },
     "metadata": {},
     "output_type": "display_data"
    },
    {
     "data": {
      "text/plain": [
       "'Total de registros na tabela: itenscarrinho'"
      ]
     },
     "metadata": {},
     "output_type": "display_data"
    },
    {
     "data": {
      "text/plain": [
       "82362"
      ]
     },
     "metadata": {},
     "output_type": "display_data"
    },
    {
     "data": {
      "text/plain": [
       "'Total de registros na tabela: avaliacoesprodutos'"
      ]
     },
     "metadata": {},
     "output_type": "display_data"
    },
    {
     "data": {
      "text/plain": [
       "14349"
      ]
     },
     "metadata": {},
     "output_type": "display_data"
    },
    {
     "data": {
      "text/plain": [
       "'Total de registros na tabela: informacoespagamento'"
      ]
     },
     "metadata": {},
     "output_type": "display_data"
    },
    {
     "data": {
      "text/plain": [
       "274999"
      ]
     },
     "metadata": {},
     "output_type": "display_data"
    }
   ],
   "source": [
    "for tabela in tabelas:\n",
    "    df = spark.read.jdbc(url=url, table=tabela, properties=properties)\n",
    "    total_registros = df.count()\n",
    "    display(f'Total de registros na tabela: {tabela}', total_registros)"
   ]
  },
  {
   "cell_type": "markdown",
   "id": "7177f3d5",
   "metadata": {},
   "source": [
    "##### Carregando dados de tabelas relacionadas usando o SparkSession e JDBC"
   ]
  },
  {
   "cell_type": "code",
   "execution_count": 6,
   "id": "2446f5a8",
   "metadata": {},
   "outputs": [],
   "source": [
    "spark = SparkSession.builder.getOrCreate()\n",
    "\n",
    "df_carrinhos_compras = spark.read.format('jdbc').option('url', url) \\\n",
    "    .option('dbtable', 'carrinhoscompras') \\\n",
    "    .option('user', user) \\\n",
    "    .option('password', password) \\\n",
    "    .load()\n",
    "\n",
    "df_itens_carrinho = spark.read.format('jdbc').option('url', url) \\\n",
    "    .option('dbtable', 'itenscarrinho') \\\n",
    "    .option('user', user) \\\n",
    "    .option('password', password) \\\n",
    "    .load()\n",
    "\n",
    "df_produtos = spark.read.format('jdbc').option('url', url) \\\n",
    "    .option('query', 'SELECT * FROM produtos') \\\n",
    "    .option('user', user) \\\n",
    "    .option('password', password) \\\n",
    "    .load()\n",
    "\n",
    "df_categorias = spark.read.format('jdbc').option('url', url) \\\n",
    "    .option('query', 'SELECT * FROM categorias') \\\n",
    "    .option('user', user) \\\n",
    "    .option('password', password) \\\n",
    "    .load()\n",
    "\n",
    "df_subcategorias = spark.read.format('jdbc').option('url', url) \\\n",
    "    .option('query', 'SELECT * FROM subcategorias') \\\n",
    "    .option('user', user) \\\n",
    "    .option('password', password) \\\n",
    "    .load()"
   ]
  },
  {
   "cell_type": "markdown",
   "id": "a6ea0287",
   "metadata": {},
   "source": [
    "##### Fazendo Regras de Associação "
   ]
  },
  {
   "cell_type": "code",
   "execution_count": 7,
   "id": "60d27a69",
   "metadata": {},
   "outputs": [],
   "source": [
    "df_itens_carrinho = df_itens_carrinho.selectExpr('idcarrinho', 'idproduto') \\\n",
    ".distinct()\n",
    "\n",
    "itens_por_carrinho = df_itens_carrinho.groupBy('idcarrinho').agg(collect_list('idproduto').alias('itens'))"
   ]
  },
  {
   "cell_type": "code",
   "execution_count": 8,
   "id": "8c817e01",
   "metadata": {},
   "outputs": [
    {
     "name": "stdout",
     "output_type": "stream",
     "text": [
      "+----------+----------+--------------------+------------------+--------------------+\n",
      "|antecedent|consequent|          confidence|              lift|             support|\n",
      "+----------+----------+--------------------+------------------+--------------------+\n",
      "|      [14]|       [5]|0.030693444486547934|0.6169168863434172|0.001557183228559...|\n",
      "|      [14]|      [31]| 0.03902993558165972|0.7728283818618933|0.001980121883230...|\n",
      "|      [14]|       [4]|0.028419856006062904|  0.56923975736133|0.001441836322740...|\n",
      "|      [14]|      [10]|0.028798787419477074|0.5808555739429775|0.001461060807043...|\n",
      "|      [14]|      [28]|0.034861690034103825|0.6929310395506224|0.001768652555895188|\n",
      "|      [14]|      [17]|0.030693444486547934|0.6224486946809995|0.001557183228559...|\n",
      "|      [14]|       [2]|0.029556650246305417|0.5924656169025314|0.001499509775650...|\n",
      "|      [14]|      [18]| 0.03334596438044714|0.6663684322618973|0.001691754618682...|\n",
      "|      [14]|      [13]|0.034103827207275485|0.6815131693587587|0.001730203587288771|\n",
      "|      [14]|      [23]| 0.03220917014020462|0.6473819177677835|0.001634081165772...|\n",
      "|      [14]|      [22]| 0.03372489579386131|  0.67497803174655|0.001710979102985...|\n",
      "|      [14]|      [21]|0.030314513073133764|0.5861970358829736|0.001537958744256...|\n",
      "|      [14]|       [7]|0.031072375899962108|0.6090021767853538|0.001576407712863...|\n",
      "|      [14]|       [3]|0.027283061765820387|0.5337281022462126|0.001384162869831...|\n",
      "|      [14]|      [26]|0.029177718832891247|0.5608785663453452|0.001480285291347...|\n",
      "|      [14]|      [25]| 0.03372489579386131|0.6580149679329647|0.001710979102985...|\n",
      "|      [14]|      [20]| 0.03220917014020462|0.6329521734729973|0.001634081165772...|\n",
      "|      [14]|      [19]| 0.02804092459264873|0.5335057697643779|0.001422611838437434|\n",
      "|      [14]|      [16]| 0.03372489579386131|0.6791590803365403|0.001710979102985...|\n",
      "|      [14]|      [15]|   0.035240621447518|0.6999279900097533|0.001787877040198...|\n",
      "+----------+----------+--------------------+------------------+--------------------+\n",
      "only showing top 20 rows\n",
      "\n"
     ]
    }
   ],
   "source": [
    "fp_growth = FPGrowth(itemsCol='itens', minSupport=0.001, minConfidence=0.001)\n",
    "modelo = fp_growth.fit(itens_por_carrinho)\n",
    "regras_assoc = modelo.associationRules\n",
    "regras_assoc.show()"
   ]
  },
  {
   "cell_type": "code",
   "execution_count": 9,
   "id": "188e4878",
   "metadata": {},
   "outputs": [
    {
     "name": "stdout",
     "output_type": "stream",
     "text": [
      "+----------+----------+--------------------+------------------+--------------------+----------------+----------------+\n",
      "|antecedent|consequent|          confidence|              lift|             support|preco_antecedent|preco_consequent|\n",
      "+----------+----------+--------------------+------------------+--------------------+----------------+----------------+\n",
      "|      [14]|      [26]|0.029177718832891247|0.5608785663453452|0.001480285291347...|          199.99|           59.99|\n",
      "|      [14]|      [28]|0.034861690034103825|0.6929310395506224|0.001768652555895188|          199.99|           29.99|\n",
      "|      [14]|      [31]| 0.03902993558165972|0.7728283818618933|0.001980121883230...|          199.99|           99.99|\n",
      "|      [14]|      [13]|0.034103827207275485|0.6815131693587587|0.001730203587288771|          199.99|           19.99|\n",
      "|      [14]|      [22]| 0.03372489579386131|  0.67497803174655|0.001710979102985...|          199.99|           29.99|\n",
      "|      [14]|       [3]|0.027283061765820387|0.5337281022462126|0.001384162869831...|          199.99|           89.99|\n",
      "|      [14]|       [5]|0.030693444486547934|0.6169168863434172|0.001557183228559...|          199.99|           79.99|\n",
      "|      [14]|      [16]| 0.03372489579386131|0.6791590803365403|0.001710979102985...|          199.99|           79.99|\n",
      "|      [14]|      [19]| 0.02804092459264873|0.5335057697643779|0.001422611838437434|          199.99|           29.99|\n",
      "|      [14]|      [20]| 0.03220917014020462|0.6329521734729973|0.001634081165772...|          199.99|           89.99|\n",
      "|      [14]|      [15]|   0.035240621447518|0.6999279900097533|0.001787877040198...|          199.99|           19.99|\n",
      "|      [14]|      [17]|0.030693444486547934|0.6224486946809995|0.001557183228559...|          199.99|           24.99|\n",
      "|      [14]|       [4]|0.028419856006062904|  0.56923975736133|0.001441836322740...|          199.99|          699.99|\n",
      "|      [14]|       [7]|0.031072375899962108|0.6090021767853538|0.001576407712863...|          199.99|           59.99|\n",
      "|      [14]|      [23]| 0.03220917014020462|0.6473819177677835|0.001634081165772...|          199.99|           59.99|\n",
      "|      [14]|      [10]|0.028798787419477074|0.5808555739429775|0.001461060807043...|          199.99|           39.99|\n",
      "|      [14]|      [21]|0.030314513073133764|0.5861970358829736|0.001537958744256...|          199.99|            9.99|\n",
      "|      [14]|      [25]| 0.03372489579386131|0.6580149679329647|0.001710979102985...|          199.99|           79.99|\n",
      "|      [14]|      [11]| 0.03145130731337628|0.6378177982533699|0.001595632197166311|          199.99|           59.99|\n",
      "|      [14]|       [2]|0.029556650246305417|0.5924656169025314|0.001499509775650...|          199.99|          199.99|\n",
      "+----------+----------+--------------------+------------------+--------------------+----------------+----------------+\n",
      "only showing top 20 rows\n",
      "\n"
     ]
    }
   ],
   "source": [
    "regras_assoc = regras_assoc.join(df_produtos, col('antecedent')[0] == col('ID'), 'left').select(regras_assoc.columns + [col('preco').alias('preco_antecedent')]).drop(\"ID\")\n",
    "regras_assoc = regras_assoc.join(df_produtos, col('consequent')[0] == col('ID'), 'left').select(regras_assoc.columns + [col('preco').alias('preco_consequent')]).drop(\"ID\")\n",
    "\n",
    "regras_assoc.show()"
   ]
  },
  {
   "cell_type": "code",
   "execution_count": 10,
   "id": "e36cb276",
   "metadata": {},
   "outputs": [
    {
     "name": "stdout",
     "output_type": "stream",
     "text": [
      "+----------+----------+--------------------+------------------+--------------------+----------------+----------------+\n",
      "|antecedent|consequent|          confidence|              lift|             support|preco_antecedent|preco_consequent|\n",
      "+----------+----------+--------------------+------------------+--------------------+----------------+----------------+\n",
      "|       [1]|      [27]| 0.04043126684636118|0.8082679506330398|0.002018570851836...|           49.99|           99.99|\n",
      "|      [22]|      [28]|0.041554444016929586|0.8259600742944694|0.002076244304746525|           29.99|           29.99|\n",
      "|      [22]|      [31]|0.041554444016929586|0.8228159552450043|0.002076244304746525|           29.99|           99.99|\n",
      "|      [27]|       [1]| 0.04035357417371253|0.8082679506330399|0.002018570851836...|           99.99|           49.99|\n",
      "|      [13]|      [12]|0.040338071456012294|0.8033175585480059|0.002018570851836...|           19.99|           29.99|\n",
      "|       [6]|      [12]| 0.04060324825986079| 0.808598455104586|0.002018570851836...|          149.99|           29.99|\n",
      "|      [12]|      [13]| 0.04019908116385911|0.8033175585480059|0.002018570851836...|           29.99|           19.99|\n",
      "|      [28]|      [22]| 0.04126862820022927|0.8259600742944694|0.002076244304746525|           29.99|           29.99|\n",
      "|      [31]|      [22]|0.041111534069280545|0.8228159552450043|0.002076244304746525|           99.99|           29.99|\n",
      "|       [5]|      [22]| 0.04095826893353941|0.8197484706102037|0.002037795336140108|           79.99|           29.99|\n",
      "|      [22]|       [5]| 0.04078491727587533|0.8197484706102037|0.002037795336140108|           29.99|           79.99|\n",
      "|      [12]|       [6]| 0.04019908116385911| 0.808598455104586|0.002018570851836...|           29.99|          149.99|\n",
      "|       [7]|       [4]| 0.04144687264506405|0.8301663359177116|0.002114693273352...|           59.99|          699.99|\n",
      "|       [4]|       [7]| 0.04235656526761648|0.8301663359177116|0.002114693273352...|          699.99|           59.99|\n",
      "|      [30]|      [18]|0.040832049306625574|0.8159664651489599|0.002037795336140108|           39.99|          699.99|\n",
      "|      [18]|      [30]|0.040722243565117174|  0.81596646514896|0.002037795336140108|          699.99|           39.99|\n",
      "+----------+----------+--------------------+------------------+--------------------+----------------+----------------+\n",
      "\n"
     ]
    }
   ],
   "source": [
    "regra_lift = regras_assoc.filter(col('lift') > 0.8)\n",
    "\n",
    "regra_lift.show()"
   ]
  },
  {
   "cell_type": "markdown",
   "id": "9ed7bc9e",
   "metadata": {},
   "source": [
    "##### Analisando Informações do BD"
   ]
  },
  {
   "cell_type": "code",
   "execution_count": 11,
   "id": "090bd163",
   "metadata": {},
   "outputs": [
    {
     "name": "stdout",
     "output_type": "stream",
     "text": [
      "+-------+------------------+--------------------+-----+-----------+--------------+--------------+\n",
      "|     id|              nome|           descricao|preco|idcategoria|idsubcategoria|nome_categoria|\n",
      "+-------+------------------+--------------------+-----+-----------+--------------+--------------+\n",
      "|2094360|     Camisa Xadrez|Camisa xadrez mas...|39.99|          1|             2|        Roupas|\n",
      "|2094361|     Camisa Xadrez|Camisa xadrez mas...|39.99|          1|             2|        Roupas|\n",
      "|2094363|     Camisa Xadrez|Camisa xadrez mas...|39.99|          1|             2|        Roupas|\n",
      "|2094365|  Blazer Masculino|Blazer masculino ...|79.99|          1|             8|        Roupas|\n",
      "|2094369| Camiseta Listrada|Camiseta listrada...|29.99|          1|             5|        Roupas|\n",
      "|2094370|    Blusa de Tricô|Blusa de tricô fe...|49.99|          1|             6|        Roupas|\n",
      "|2094374|    Vestido Floral|Vestido estampado...|59.99|          1|             1|        Roupas|\n",
      "|2094375| Camiseta Listrada|Camiseta listrada...|29.99|          1|             5|        Roupas|\n",
      "|2094386|       Calça Jeans|Calça jeans mascu...|79.99|          1|             3|        Roupas|\n",
      "|2094388|    Blusa de Tricô|Blusa de tricô fe...|49.99|          1|             6|        Roupas|\n",
      "|2094392|       Calça Jeans|Calça jeans mascu...|79.99|          1|             3|        Roupas|\n",
      "|2094401|     Camisa Xadrez|Camisa xadrez mas...|39.99|          1|             2|        Roupas|\n",
      "|2094404|       Calça Jeans|Calça jeans mascu...|79.99|          1|             3|        Roupas|\n",
      "|2094407|       Calça Jeans|Calça jeans mascu...|79.99|          1|             3|        Roupas|\n",
      "|2094414|         Saia Midi| Saia midi estampada|39.99|          1|             4|        Roupas|\n",
      "|2094419|       Calça Jeans|Calça jeans mascu...|79.99|          1|             3|        Roupas|\n",
      "|2094429|  Blazer Masculino|Blazer masculino ...|79.99|          1|             8|        Roupas|\n",
      "|2094430|    Vestido Floral|Vestido estampado...|59.99|          1|             1|        Roupas|\n",
      "|2094431|Camiseta Estampada|Camiseta estampad...|29.99|          1|             7|        Roupas|\n",
      "|2094433|  Blazer Masculino|Blazer masculino ...|79.99|          1|             8|        Roupas|\n",
      "+-------+------------------+--------------------+-----+-----------+--------------+--------------+\n",
      "only showing top 20 rows\n",
      "\n"
     ]
    }
   ],
   "source": [
    "df_join = df_produtos.join(df_categorias, df_produtos['idcategoria'] == df_categorias['id']).select(df_produtos['*'], df_categorias['nome'].alias('nome_categoria'))\n",
    "df_join.show()"
   ]
  },
  {
   "cell_type": "code",
   "execution_count": 12,
   "id": "1bada8be",
   "metadata": {},
   "outputs": [
    {
     "name": "stdout",
     "output_type": "stream",
     "text": [
      "+--------------+-----------+\n",
      "|nome_categoria|media_preco|\n",
      "+--------------+-----------+\n",
      "|        Roupas|  51.240572|\n",
      "|   Eletrônicos| 416.776332|\n",
      "|        Livros|  23.731674|\n",
      "|    Tecnologia|  86.026156|\n",
      "|      Calçados|  74.289186|\n",
      "+--------------+-----------+\n",
      "\n"
     ]
    }
   ],
   "source": [
    "media_categoria = df_join.groupBy('nome_categoria').agg(avg('preco').alias('media_preco'))\n",
    "\n",
    "media_categoria.show()"
   ]
  },
  {
   "cell_type": "markdown",
   "id": "8a370cba",
   "metadata": {},
   "source": [
    "acima fizemos o calculo da média de preço por categoria"
   ]
  },
  {
   "cell_type": "code",
   "execution_count": 13,
   "id": "7dc750d1",
   "metadata": {
    "scrolled": false
   },
   "outputs": [
    {
     "name": "stdout",
     "output_type": "stream",
     "text": [
      "+--------------+-----------------+\n",
      "|nome_categoria|nome_subcategoria|\n",
      "+--------------+-----------------+\n",
      "|        Roupas|         Vestidos|\n",
      "|        Roupas|         Vestidos|\n",
      "|        Roupas|         Vestidos|\n",
      "|        Roupas|         Vestidos|\n",
      "|        Roupas|         Vestidos|\n",
      "|        Roupas|         Vestidos|\n",
      "|        Roupas|         Vestidos|\n",
      "|        Roupas|         Vestidos|\n",
      "|        Roupas|         Vestidos|\n",
      "|        Roupas|         Vestidos|\n",
      "|        Roupas|         Vestidos|\n",
      "|        Roupas|         Vestidos|\n",
      "|        Roupas|         Vestidos|\n",
      "|        Roupas|         Vestidos|\n",
      "|        Roupas|         Vestidos|\n",
      "|        Roupas|         Vestidos|\n",
      "|        Roupas|         Vestidos|\n",
      "|        Roupas|         Vestidos|\n",
      "|        Roupas|         Vestidos|\n",
      "|        Roupas|         Vestidos|\n",
      "+--------------+-----------------+\n",
      "only showing top 20 rows\n",
      "\n"
     ]
    }
   ],
   "source": [
    "df_join = df_produtos.join(df_subcategorias, df_produtos['idsubcategoria'] == df_subcategorias['id'], 'inner') \\\n",
    "                     .join(df_categorias, df_produtos['idcategoria'] == df_categorias['id'], 'inner') \\\n",
    "                     .select(df_categorias['nome'].alias('nome_categoria'), df_subcategorias['nome'].alias('nome_subcategoria')) \\\n",
    "                     .where((df_produtos['idcategoria'] == df_categorias['id']) & (df_produtos['idsubcategoria'] == df_subcategorias['id']))\n",
    "\n",
    "df_join.show()"
   ]
  },
  {
   "cell_type": "code",
   "execution_count": 14,
   "id": "6217d4cc",
   "metadata": {},
   "outputs": [
    {
     "name": "stdout",
     "output_type": "stream",
     "text": [
      "+--------------+--------+\n",
      "|nome_categoria|contagem|\n",
      "+--------------+--------+\n",
      "|        Roupas|  697545|\n",
      "|   Eletrônicos|  609503|\n",
      "|      Calçados|  608578|\n",
      "|    Tecnologia|  435784|\n",
      "|        Livros|  348590|\n",
      "+--------------+--------+\n",
      "\n"
     ]
    }
   ],
   "source": [
    "contagem_categorias = df_join.groupBy('nome_categoria') \\\n",
    "                               .agg(count('*').alias('contagem')) \\\n",
    "                               .orderBy('contagem', ascending=False)\n",
    "\n",
    "contagem_categorias.show()"
   ]
  },
  {
   "cell_type": "code",
   "execution_count": 15,
   "id": "e0b937ef",
   "metadata": {},
   "outputs": [
    {
     "name": "stdout",
     "output_type": "stream",
     "text": [
      "+-----------------+--------+\n",
      "|nome_subcategoria|contagem|\n",
      "+-----------------+--------+\n",
      "|         Vestidos|  610551|\n",
      "|          Camisas|  521832|\n",
      "|           Calças|  435637|\n",
      "|            Saias|  435527|\n",
      "|           Blusas|  348323|\n",
      "|            Tênis|  174169|\n",
      "|        Sandálias|   87021|\n",
      "|          Sapatos|   86940|\n",
      "+-----------------+--------+\n",
      "\n"
     ]
    }
   ],
   "source": [
    "contagem_subcategorias = df_join.groupBy('nome_subcategoria') \\\n",
    "                               .agg(count('*').alias('contagem')) \\\n",
    "                               .orderBy('contagem', ascending=False)\n",
    "\n",
    "contagem_subcategorias.show()"
   ]
  },
  {
   "cell_type": "markdown",
   "id": "f92dbd7b",
   "metadata": {},
   "source": [
    "fizemos a contagem das categorias, subcategorias e quantidade de produtos por categoria "
   ]
  },
  {
   "cell_type": "code",
   "execution_count": 16,
   "id": "2bc505c2",
   "metadata": {},
   "outputs": [
    {
     "name": "stdout",
     "output_type": "stream",
     "text": [
      "+--------------+------+\n",
      "|nome_categoria| count|\n",
      "+--------------+------+\n",
      "|      Calçados| 87124|\n",
      "|   Eletrônicos|436166|\n",
      "|    Tecnologia| 87232|\n",
      "+--------------+------+\n",
      "\n"
     ]
    }
   ],
   "source": [
    "limite_preco = 100.0\n",
    "\n",
    "registros_acima_limite = df_produtos.join(df_categorias, df_produtos['idcategoria'] == df_categorias['id']) \\\n",
    "                                    .filter(df_produtos['preco'] > limite_preco)\n",
    "\n",
    "contagem_por_categoria = registros_acima_limite.groupBy(df_categorias['nome'].alias('nome_categoria')).count()\n",
    "\n",
    "contagem_por_categoria.show()"
   ]
  },
  {
   "cell_type": "markdown",
   "id": "a05316a7",
   "metadata": {},
   "source": [
    "fizemos acima um filtro para analisar quais categorias tem produtos com preço acima de 100"
   ]
  },
  {
   "cell_type": "markdown",
   "id": "441a4478",
   "metadata": {},
   "source": [
    "##### Visualizando Dados"
   ]
  },
  {
   "cell_type": "code",
   "execution_count": 17,
   "id": "17df147e",
   "metadata": {},
   "outputs": [],
   "source": [
    "df_join = df_produtos.join(df_categorias, df_produtos['idcategoria'] == df_categorias['id'], 'inner') \\\n",
    "                     .select(df_categorias['nome'].alias('nome_categoria'))"
   ]
  },
  {
   "cell_type": "code",
   "execution_count": 18,
   "id": "e59f5b13",
   "metadata": {},
   "outputs": [],
   "source": [
    "categoria_counts = df_join.groupBy('nome_categoria').count().orderBy('count', ascending=False)\n",
    "categoria_counts = categoria_counts.toPandas()"
   ]
  },
  {
   "cell_type": "code",
   "execution_count": 19,
   "id": "bf752d6e",
   "metadata": {},
   "outputs": [
    {
     "data": {
      "image/png": "[encoded data removed]",
      "text/plain": [
       "<Figure size 640x480 with 1 Axes>"
      ]
     },
     "metadata": {},
     "output_type": "display_data"
    }
   ],
   "source": [
    "plt.bar(categoria_counts['nome_categoria'], categoria_counts['count'])\n",
    "plt.xlabel('Categoria')\n",
    "plt.ylabel('Contagem')\n",
    "plt.title('Número de registros por Categoria')\n",
    "plt.xticks(rotation=90)\n",
    "plt.show()"
   ]
  },
  {
   "cell_type": "markdown",
   "id": "6a71faa0",
   "metadata": {},
   "source": [
    "acima vemos a quantidade de produtos vendidos por categoria"
   ]
  },
  {
   "cell_type": "code",
   "execution_count": 20,
   "id": "bb143ed0",
   "metadata": {},
   "outputs": [
    {
     "data": {
      "image/png": "[encoded data removed]",
      "text/plain": [
       "<Figure size 640x480 with 1 Axes>"
      ]
     },
     "metadata": {},
     "output_type": "display_data"
    }
   ],
   "source": [
    "preco_confianca = df_produtos.select('preco', lit(0.5).alias('confianca')).toPandas()\n",
    "preco_confianca.plot.scatter(x='confianca', y='preco')\n",
    "plt.xlabel('Confiança')\n",
    "plt.ylabel('Preço')\n",
    "plt.title('Relação entre Confiança e Preço')\n",
    "plt.show()"
   ]
  },
  {
   "cell_type": "markdown",
   "id": "399775ba",
   "metadata": {},
   "source": [
    "o scatter plot acima nos traz que no intervalo de confiança 0.50 temos uma grande quantidade de produtos com preço entre 50 e 300 reais e logo após temos alguns pontos discrepantes com preços de 700 e 1000 reais"
   ]
  },
  {
   "cell_type": "code",
   "execution_count": 21,
   "id": "86dfdc80",
   "metadata": {},
   "outputs": [
    {
     "name": "stdout",
     "output_type": "stream",
     "text": [
      "+------+--------------------+\n",
      "| preco|          confidence|\n",
      "+------+--------------------+\n",
      "|199.99|0.029177718832891247|\n",
      "|199.99|0.034861690034103825|\n",
      "|199.99| 0.03902993558165972|\n",
      "|199.99|0.034103827207275485|\n",
      "|199.99| 0.03372489579386131|\n",
      "|199.99| 0.03372489579386131|\n",
      "|199.99|0.027283061765820387|\n",
      "|199.99|0.030693444486547934|\n",
      "|199.99| 0.02804092459264873|\n",
      "|199.99| 0.03220917014020462|\n",
      "|199.99|   0.035240621447518|\n",
      "|199.99|0.030693444486547934|\n",
      "|199.99|0.028419856006062904|\n",
      "|199.99|0.031072375899962108|\n",
      "|199.99|0.028798787419477074|\n",
      "|199.99| 0.03220917014020462|\n",
      "|199.99|0.030314513073133764|\n",
      "|199.99| 0.03372489579386131|\n",
      "|199.99| 0.03145130731337628|\n",
      "|199.99|0.029556650246305417|\n",
      "+------+--------------------+\n",
      "only showing top 20 rows\n",
      "\n"
     ]
    }
   ],
   "source": [
    "confianca = regras_assoc.select(col('preco_antecedent').alias('preco'), regras_assoc['confidence'])\n",
    "\n",
    "confianca.show()"
   ]
  },
  {
   "cell_type": "code",
   "execution_count": 22,
   "id": "1a3b57d3",
   "metadata": {},
   "outputs": [
    {
     "data": {
      "image/png": "[encoded data removed]",
      "text/plain": [
       "<Figure size 640x480 with 1 Axes>"
      ]
     },
     "metadata": {},
     "output_type": "display_data"
    }
   ],
   "source": [
    "confianca_pd = confianca.toPandas()\n",
    "\n",
    "plt.scatter(confianca_pd['preco'], confianca_pd['confidence'])\n",
    "plt.xlabel('Preço')\n",
    "plt.ylabel('Confiança')\n",
    "plt.title('Relação entre Preço e Confiança')\n",
    "plt.show()"
   ]
  },
  {
   "cell_type": "markdown",
   "id": "8a8e3ba7",
   "metadata": {},
   "source": [
    "O gráfico mostra uma relação entre o preço e a confiança dos produtos. A maioria dos produtos com preços entre 0 e 200 tem confiança baixa, mas há um ponto isolado em torno de 700 com confiança alta. Em geral, quanto maior o preço, maior a confiança, exceto por esse caso excepcional."
   ]
  }
 ],
 "metadata": {
  "kernelspec": {
   "display_name": "Python 3 (ipykernel)",
   "language": "python",
   "name": "python3"
  },
  "language_info": {
   "codemirror_mode": {
    "name": "ipython",
    "version": 3
   },
   "file_extension": ".py",
   "mimetype": "text/x-python",
   "name": "python",
   "nbconvert_exporter": "python",
   "pygments_lexer": "ipython3",
   "version": "3.9.16"
  }
 },
 "nbformat": 4,
 "nbformat_minor": 5
}
